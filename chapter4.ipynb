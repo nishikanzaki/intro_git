{
 "cells": [
  {
   "cell_type": "markdown",
   "metadata": {
    "cell_id": "b856059ecf05407f81fdb9c863e55e8c",
    "deepnote_cell_type": "markdown"
   },
   "source": [
    "# 第4章 予測モデルの評価と検証"
   ]
  },
  {
   "cell_type": "markdown",
   "metadata": {
    "cell_id": "5bcaa99260f74e869ab927192cd9a744",
    "deepnote_cell_type": "markdown"
   },
   "source": [
    "## 4.2 ホールドアウト法と時系列データ"
   ]
  },
  {
   "cell_type": "code",
   "execution_count": 1,
   "metadata": {
    "cell_id": "4c7e4759549049f7982a5f2972e9bf5c",
    "deepnote_cell_type": "code",
    "execution_context_id": "929b43c5-1663-485d-a037-88fb63a463d3",
    "execution_millis": 0,
    "execution_start": 1753614634156,
    "source_hash": "d6fa16db"
   },
   "outputs": [],
   "source": [
    "#\n",
    "# code 4.1\n",
    "#\n",
    "\n",
    "import numpy as np\n",
    "import pandas as pd\n",
    "import matplotlib.pyplot as plt\n",
    "from pmdarima.datasets import load_airpassengers\n",
    "\n",
    "# データの読み込み\n",
    "data = load_airpassengers()\n",
    "df_ap = pd.DataFrame(data, columns=['y'])\n",
    "df_ap.index = pd.date_range(\n",
    "    start='1949-01-01', # 開始月\n",
    "    periods=len(df_ap), # 期数\n",
    "    freq='M'            # 間隔（Mは月を意味する）\n",
    ")"
   ]
  },
  {
   "cell_type": "code",
   "execution_count": 2,
   "metadata": {
    "cell_id": "c04b2924b81b4fa9838975f01dcbd3d3",
    "deepnote_cell_type": "code",
    "execution_context_id": "929b43c5-1663-485d-a037-88fb63a463d3",
    "execution_millis": 3,
    "execution_start": 1753614635030,
    "source_hash": "74d82560"
   },
   "outputs": [
    {
     "name": "stdout",
     "output_type": "stream",
     "text": [
      "Training data: 1949-01-31 00:00:00 1959-12-31 00:00:00\n",
      "Test data: 1960-01-31 00:00:00 1960-12-31 00:00:00\n"
     ]
    }
   ],
   "source": [
    "#\n",
    "# code 4.2\n",
    "#\n",
    "\n",
    "from pmdarima.model_selection import train_test_split\n",
    "\n",
    "# データを学習データとテストデータに分割\n",
    "train, test = train_test_split(\n",
    "    df_ap['y'],   # 分割対象の時系列データ\n",
    "    test_size=12, # 直近12ヶ月分をテストデータ\n",
    ")\n",
    "\n",
    "# 学習データとテストデータの期間を確認\n",
    "print(\"Training data:\", train.index.min(), train.index.max())\n",
    "print(\"Test data:\", test.index.min(), test.index.max())"
   ]
  },
  {
   "cell_type": "code",
   "execution_count": 3,
   "metadata": {
    "cell_id": "d35dd8cfcd4f452799e4215e8605d0a2",
    "deepnote_cell_type": "code",
    "execution_context_id": "929b43c5-1663-485d-a037-88fb63a463d3",
    "execution_millis": 5114,
    "execution_start": 1753614348425,
    "source_hash": "d5cb3a0a"
   },
   "outputs": [
    {
     "name": "stdout",
     "output_type": "stream",
     "text": [
      "MAE: 14.90\n",
      "MAPE: 3.10%\n"
     ]
    }
   ],
   "source": [
    "#\n",
    "# code 4.3\n",
    "#\n",
    "\n",
    "from sklearn.metrics import (\n",
    "    mean_absolute_error,            # MAE\n",
    "    mean_absolute_percentage_error, # MAPE\n",
    ")\n",
    "from pmdarima import AutoARIMA\n",
    "\n",
    "# 学習データでARIMAモデルを構築\n",
    "model = AutoARIMA(seasonal=True, m=12)\n",
    "model.fit(train)\n",
    "\n",
    "# テストデータの期間を予測\n",
    "forecast = model.predict(n_periods=12)\n",
    "\n",
    "# 評価指標（MAEとMAPE）を計算\n",
    "mae = mean_absolute_error(test, forecast)\n",
    "mape = mean_absolute_percentage_error(test, forecast)\n",
    "print(f\"MAE: {mae:.2f}\")\n",
    "print(f\"MAPE: {mape*100:.2f}%\")"
   ]
  },
  {
   "cell_type": "code",
   "execution_count": 4,
   "metadata": {
    "cell_id": "46951f6a3f8d4e58ac72bc7442f55615",
    "deepnote_cell_type": "code",
    "execution_context_id": "929b43c5-1663-485d-a037-88fb63a463d3",
    "execution_millis": 2,
    "execution_start": 1753614408296,
    "source_hash": "7e4ba779"
   },
   "outputs": [],
   "source": [
    "#\n",
    "# code 3.3\n",
    "#\n",
    "\n",
    "# 予測結果をプロットする関数\n",
    "def plot_prediction_results(\n",
    "    y,                  # 実際の観測値\n",
    "    fitted,             # 学習データ期間の予測値\n",
    "    forecast=None,      # 将来予測の予測値\n",
    "    conf=None,          # 将来予測の予測区間\n",
    "):\n",
    "    # 実測値のプロット\n",
    "    plt.figure(figsize=(10, 5))\n",
    "    plt.plot(\n",
    "        y.index,        # 横軸\n",
    "        y.values,       # 縦軸 \n",
    "        label='Actual'  # ラベル名\n",
    "    )\n",
    "    # 学習データ期間の予測値のプロット\n",
    "    plt.plot(\n",
    "        fitted.index,   # 横軸\n",
    "        fitted.values,  # 縦軸\n",
    "        label='Fitted', # ラベル名\n",
    "        color='green',  # 線の色\n",
    "        linestyle=':'   # 線のスタイル\n",
    "    )\n",
    "    # 将来の予測値のプロット\n",
    "    if forecast is not None:\n",
    "        plt.plot(\n",
    "            forecast.index,   # 横軸\n",
    "            forecast,         # 縦軸\n",
    "            label='Forecast', # ラベル名\n",
    "            color='red',      # 線の色\n",
    "            linestyle='--'    # 線のスタイル\n",
    "        )\n",
    "    # 将来の予測区間のプロット\n",
    "    if conf is not None:\n",
    "        plt.fill_between(\n",
    "            forecast.index,            # 横軸\n",
    "            conf[:, 0],                # 塗りつぶし幅の下限\n",
    "            conf[:, 1],                # 塗りつぶし幅の上限\n",
    "            color='red',               # 塗りつぶし幅の色\n",
    "            alpha=0.1,                 # 塗りつぶし幅の透明度\n",
    "            label='Predicted Interval' # ラベル名\n",
    "        )\n",
    "    plt.legend() # 凡例を表示\n",
    "    plt.show()   # グラフを表示"
   ]
  },
  {
   "cell_type": "code",
   "execution_count": 5,
   "metadata": {
    "cell_id": "99b2924746bb434aadd10bea72268d9e",
    "deepnote_cell_type": "code",
    "execution_context_id": "8c5ed8c9-e31f-4f0b-ad00-04f6a5dec578",
    "execution_millis": 174,
    "execution_start": 1753585363395,
    "source_hash": "7fde35de"
   },
   "outputs": [
    {
     "data": {
      "image/png": "[encoded data removed]",
      "text/plain": [
       "<Figure size 1000x500 with 1 Axes>"
      ]
     },
     "metadata": {
      "image/png": {
       "height": 428,
       "width": 831
      }
     },
     "output_type": "display_data"
    }
   ],
   "source": [
    "#\n",
    "# code 4.4\n",
    "#\n",
    "\n",
    "# 学習データ期間の予測値を取得\n",
    "fitted = model.predict_in_sample()\n",
    "\n",
    "# 将来12か月間の予測（予測区間付き）\n",
    "forecast, conf = model.predict(\n",
    "    n_periods=12,         # 予測期間（12ヶ月分）\n",
    "    return_conf_int=True, # 予測区間を返す\n",
    "    alpha=0.05,           # 予測区間の信頼水準（95%予測区間）\n",
    ")\n",
    "\n",
    "# 予測結果をプロット\n",
    "plot_prediction_results(df_ap.y, fitted, forecast, conf)"
   ]
  },
  {
   "cell_type": "markdown",
   "metadata": {
    "cell_id": "23c8dcccf0704b89938848a1f3b83295",
    "deepnote_cell_type": "markdown"
   },
   "source": [
    "## 4.3 時系列のクロスバリデーション方法"
   ]
  },
  {
   "cell_type": "markdown",
   "metadata": {},
   "source": [
    "### 4.3.2 時系列クロスバリデーション法"
   ]
  },
  {
   "cell_type": "code",
   "execution_count": 6,
   "metadata": {
    "cell_id": "f9bfb68e112342e4a137764c9bae6be0",
    "deepnote_cell_type": "code",
    "execution_context_id": "8c5ed8c9-e31f-4f0b-ad00-04f6a5dec578",
    "execution_millis": 0,
    "execution_start": 1753585427515,
    "source_hash": "8809a56d"
   },
   "outputs": [],
   "source": [
    "#\n",
    "# code 4.5\n",
    "#\n",
    "\n",
    "from pmdarima.model_selection import RollingForecastCV\n",
    "\n",
    "# RollingForecastCVクラスのインスタンスを作成\n",
    "cv = RollingForecastCV(\n",
    "    initial=36,  # 初期の訓練用データ期間を36ヶ月に設定\n",
    "    h=12,        # 先の12か月のデータを予測対象とする\n",
    "    step=3       # ローリングするステップ数を3ヶ月ずつとする\n",
    ")\n",
    "\n",
    "# 時系列データを配列に変換し取得\n",
    "y = df_ap['y'].values\n",
    "\n",
    "# クロスバリデーションの分割情報の取得\n",
    "tscv = cv.split(y)"
   ]
  },
  {
   "cell_type": "code",
   "execution_count": 7,
   "metadata": {
    "cell_id": "8ba2732e033c4ca385af1bcbc251195c",
    "deepnote_cell_type": "code",
    "execution_context_id": "8c5ed8c9-e31f-4f0b-ad00-04f6a5dec578",
    "execution_millis": 0,
    "execution_start": 1753585459365,
    "source_hash": "46e3f515"
   },
   "outputs": [
    {
     "name": "stdout",
     "output_type": "stream",
     "text": [
      "\n",
      "分割 1:\n",
      "訓練データのインデックス範囲: 0 - 35\n",
      "検証データのインデックス範囲: 36 - 47\n",
      "\n",
      "分割 2:\n",
      "訓練データのインデックス範囲: 0 - 38\n",
      "検証データのインデックス範囲: 39 - 50\n",
      "\n",
      "分割 3:\n",
      "訓練データのインデックス範囲: 0 - 41\n",
      "検証データのインデックス範囲: 42 - 53\n"
     ]
    }
   ],
   "source": [
    "#\n",
    "# code 4.6\n",
    "#\n",
    "\n",
    "# tscvから最初の3つの分割を取り出して表示\n",
    "for i, (train_idx, test_idx) in enumerate(tscv):\n",
    "    print(f\"\\n分割 {i+1}:\")\n",
    "    print(\"訓練データのインデックス範囲: \"\n",
    "          f\"{train_idx[0]} - {train_idx[-1]}\")\n",
    "    print(\"検証データのインデックス範囲: \"\n",
    "          f\"{test_idx[0]} - {test_idx[-1]}\")\n",
    "    if i >= 2:  # 最初の3つの分割のみ表示\n",
    "        break"
   ]
  },
  {
   "cell_type": "code",
   "execution_count": 8,
   "metadata": {
    "cell_id": "dea8683b75d84bfeaffcfd0628770554",
    "deepnote_cell_type": "code",
    "execution_context_id": "929b43c5-1663-485d-a037-88fb63a463d3",
    "execution_millis": 0,
    "execution_start": 1753587505175,
    "source_hash": "162f7bb1"
   },
   "outputs": [],
   "source": [
    "#\n",
    "# code 4.7\n",
    "#\n",
    "\n",
    "# 時系列データに対してクロスバリデーションを実施し、MAEとMAPEを計算する関数\n",
    "def perform_ARIMA_tscv(\n",
    "    y_values, # 時系列データ\n",
    "    tscv,     # 時系列CVの分割情報\n",
    "    m=0,      # 季節周期\n",
    "):\n",
    "    # MAEとMAPEを保存するリスト\n",
    "    mae_list = []\n",
    "    mape_list = []\n",
    "    \n",
    "    # クロスバリデーションの実施\n",
    "    for train_idx, test_idx in tscv:\n",
    "\n",
    "        # 訓練データと検証データの取得\n",
    "        train_data = y_values[train_idx]  # 訓練データ\n",
    "        test_data = y_values[test_idx]    # 検証データ\n",
    "\n",
    "        # 訓練データでARIMAモデルを学習\n",
    "        if m == 0:\n",
    "            model = AutoARIMA(seasonal=False) \n",
    "        else:\n",
    "            model = AutoARIMA(seasonal=True, m=m) \n",
    "        model.fit(train_data)\n",
    "\n",
    "        # 検証データの期間を予測\n",
    "        forecast = model.predict(n_periods=len(test_data))\n",
    "\n",
    "        # 評価指標を計算\n",
    "        mae = mean_absolute_error(test_data, forecast)\n",
    "        mape = mean_absolute_percentage_error(test_data, forecast)\n",
    "        mae_list.append(mae)    # 計算したMAEをリストに追加\n",
    "        mape_list.append(mape)  # 計算したMAPEをリストに追加\n",
    "\n",
    "    # 全クロスバリデーションの平均MAEとMAPEを計算\n",
    "    mean_mae = np.mean(mae_list)\n",
    "    mean_mape = np.mean(mape_list)\n",
    "\n",
    "    # 戻り値: (平均MAE, 平均MAPE)\n",
    "    return mean_mae, mean_mape"
   ]
  },
  {
   "cell_type": "code",
   "execution_count": 9,
   "metadata": {
    "cell_id": "3b0eeae24ab4468887b04cb5de87f958",
    "deepnote_cell_type": "code",
    "execution_context_id": "8c5ed8c9-e31f-4f0b-ad00-04f6a5dec578",
    "execution_millis": 134740,
    "execution_start": 1753585663195,
    "source_hash": "bbed602"
   },
   "outputs": [
    {
     "name": "stdout",
     "output_type": "stream",
     "text": [
      "CV MAE: 16.98\n",
      "CV MAPE: 5.40%\n"
     ]
    }
   ],
   "source": [
    "#\n",
    "# code 4.8\n",
    "#\n",
    "\n",
    "m_mae, m_mape = perform_ARIMA_tscv(\n",
    "    y_values = y,       # 時系列データ\n",
    "    tscv = cv.split(y), # 時系列CVの分割情報\n",
    "    m=12,               # ARIMAモデルの期間（季節周期）\n",
    ")\n",
    "print(f\"CV MAE: {m_mae:.2f}\")\n",
    "print(f\"CV MAPE: {m_mape*100:.2f}%\")"
   ]
  },
  {
   "cell_type": "code",
   "execution_count": 10,
   "metadata": {
    "cell_id": "3fb2803b86b24f4690a55e1eb28aab58",
    "deepnote_cell_type": "code",
    "execution_context_id": "8c5ed8c9-e31f-4f0b-ad00-04f6a5dec578",
    "execution_millis": 0,
    "execution_start": 1753585964095,
    "source_hash": "b1e34ba1"
   },
   "outputs": [],
   "source": [
    "#\n",
    "# code 4.9\n",
    "#\n",
    "\n",
    "from pmdarima.model_selection import SlidingWindowForecastCV\n",
    "\n",
    "# SlidingWindowForecastCVクラスのインスタンスを作成\n",
    "cv = SlidingWindowForecastCV(\n",
    "    window_size=36,  # 過去36か月分のデータを使用してモデルを学習\n",
    "    h=12,            # 先の12か月のデータを予測対象とする\n",
    "    step=3           # スライディングウィンドウを3か月ずつ移動\n",
    ")\n",
    "\n",
    "# 時系列データを配列に変換し取得\n",
    "y = df_ap['y'].values\n",
    "\n",
    "# クロスバリデーションの分割情報の取得\n",
    "tscv = cv.split(y)"
   ]
  },
  {
   "cell_type": "code",
   "execution_count": 11,
   "metadata": {
    "cell_id": "ea7155c1be0e438e9756a2d556916874",
    "deepnote_cell_type": "code",
    "execution_context_id": "8c5ed8c9-e31f-4f0b-ad00-04f6a5dec578",
    "execution_millis": 2,
    "execution_start": 1753585967842,
    "source_hash": "f2466899"
   },
   "outputs": [
    {
     "name": "stdout",
     "output_type": "stream",
     "text": [
      "\n",
      "分割 1:\n",
      "訓練データのインデックス範囲: 0 - 35\n",
      "検証データのインデックス範囲: 36 - 47\n",
      "\n",
      "分割 2:\n",
      "訓練データのインデックス範囲: 3 - 38\n",
      "検証データのインデックス範囲: 39 - 50\n",
      "\n",
      "分割 3:\n",
      "訓練データのインデックス範囲: 6 - 41\n",
      "検証データのインデックス範囲: 42 - 53\n"
     ]
    }
   ],
   "source": [
    "#\n",
    "# code 4.10\n",
    "#\n",
    "\n",
    "# tscvから最初の3つの分割を取り出して表示\n",
    "for i, (train_idx, test_idx) in enumerate(tscv):\n",
    "    print(f\"\\n分割 {i+1}:\")\n",
    "    print(\"訓練データのインデックス範囲: \"\n",
    "          f\"{train_idx[0]} - {train_idx[-1]}\")\n",
    "    print(\"検証データのインデックス範囲: \"\n",
    "          f\"{test_idx[0]} - {test_idx[-1]}\")\n",
    "    if i >= 2:  # 最初の3つの分割のみ表示\n",
    "        break"
   ]
  },
  {
   "cell_type": "code",
   "execution_count": 12,
   "metadata": {
    "cell_id": "a08b18b5efa247e293bbb4960e518943",
    "deepnote_cell_type": "code",
    "execution_context_id": "8c5ed8c9-e31f-4f0b-ad00-04f6a5dec578",
    "execution_millis": 40501,
    "execution_start": 1753585972714,
    "source_hash": "58245778"
   },
   "outputs": [
    {
     "name": "stdout",
     "output_type": "stream",
     "text": [
      "CV MAE: 16.60\n",
      "CV MAPE: 5.20%\n"
     ]
    }
   ],
   "source": [
    "#\n",
    "# code 4.11\n",
    "#\n",
    "\n",
    "m_mae, m_mape = perform_ARIMA_tscv(\n",
    "    y_values = y, # 時系列データ\n",
    "    tscv = cv.split(y), # 時系列CVの分割情報\n",
    "    m=12, # ARIMAモデルの期間（季節周期）\n",
    ")\n",
    "print(f\"CV MAE: {m_mae:.2f}\")\n",
    "print(f\"CV MAPE: {m_mape*100:.2f}%\")"
   ]
  },
  {
   "cell_type": "markdown",
   "metadata": {
    "cell_id": "86068fb2ae554092af4dbdb24bdea0e4",
    "deepnote_cell_type": "markdown"
   },
   "source": [
    "### 4.3.3 ホールドアウト×クロスバリデーション"
   ]
  },
  {
   "cell_type": "code",
   "execution_count": 13,
   "metadata": {
    "cell_id": "70304735dc854df39cd60d9f2597c60f",
    "deepnote_cell_type": "code",
    "execution_context_id": "929b43c5-1663-485d-a037-88fb63a463d3",
    "execution_millis": 10,
    "execution_start": 1753587642852,
    "source_hash": "95c791ff"
   },
   "outputs": [],
   "source": [
    "#\n",
    "# code 4.12\n",
    "#\n",
    "\n",
    "from pmdarima.model_selection import train_test_split\n",
    "\n",
    "# 時系列データを配列に変換し取得\n",
    "y = df_ap['y'].values\n",
    "\n",
    "# 時系列データをホールドアウト方式で分割（直近12ヶ月がテストデータ）\n",
    "train_all, test_final = train_test_split(\n",
    "    y,            # 分割対象の時系列データ\n",
    "    test_size=12, # 直近12ヶ月分をテストデータ　\n",
    ")"
   ]
  },
  {
   "cell_type": "code",
   "execution_count": 14,
   "metadata": {
    "cell_id": "b4dad07b0e2d4daba1073036b7835fbc",
    "deepnote_cell_type": "code",
    "execution_context_id": "929b43c5-1663-485d-a037-88fb63a463d3",
    "execution_millis": 20,
    "execution_start": 1753587643955,
    "source_hash": "81836732"
   },
   "outputs": [],
   "source": [
    "#\n",
    "# code 4.13\n",
    "#\n",
    "\n",
    "import optuna\n",
    "from pmdarima import AutoARIMA\n",
    "from pmdarima.model_selection import RollingForecastCV\n",
    "from sklearn.metrics import mean_absolute_error\n",
    "from sklearn.metrics import mean_absolute_percentage_error\n",
    "\n",
    "# Optunaの目的関数の設定\n",
    "def objective(trial):\n",
    "    \n",
    "    # 試行する複数の季節性の周期\n",
    "    m = trial.suggest_int(\n",
    "        name='m', \n",
    "        low=0,      # 最小値\n",
    "        high=12,    # 最大値\n",
    "    )\n",
    "\n",
    "    # RollingForecastCVクラスのインスタンスを作成\n",
    "    cv = RollingForecastCV(\n",
    "        initial=36, # 初期の訓練用データ期間を36ヶ月に設定\n",
    "        h=12,       # 先の12か月のデータを予測対象とする\n",
    "        step=3      # ローリングするステップ数を3ヶ月ずつとする\n",
    "    )\n",
    "\n",
    "    # クロスバリデーションの分割情報の取得\n",
    "    tscv = cv.split(train_all)\n",
    "\n",
    "    # perform_ARIMA_tscv関数を使用して評価指標を計算\n",
    "    mae, _ = perform_ARIMA_tscv(train_all, tscv, m)\n",
    "\n",
    "    # 戻り値として評価指標を返す\n",
    "    return mae"
   ]
  },
  {
   "cell_type": "code",
   "execution_count": 15,
   "metadata": {
    "cell_id": "9677c680e23742cca17521be0ea0a62e",
    "deepnote_cell_type": "code",
    "execution_context_id": "929b43c5-1663-485d-a037-88fb63a463d3",
    "execution_millis": 2539735,
    "execution_start": 1753593249790,
    "source_hash": "e323ba01"
   },
   "outputs": [
    {
     "name": "stdout",
     "output_type": "stream",
     "text": [
      "Best m: 12\n"
     ]
    }
   ],
   "source": [
    "#\n",
    "# code 4.14\n",
    "#\n",
    "\n",
    "# Studyオブジェクトの作成（最小化問題として設定）\n",
    "study = optuna.create_study(\n",
    "    direction='minimize',\n",
    "    sampler=optuna.samplers.TPESampler(seed=123)\n",
    ")\n",
    "\n",
    "# ハイパーパラメータの最適化実行\n",
    "study.optimize(\n",
    "    objective,   # 目的関数\n",
    "    n_trials=10, # 10回試行\n",
    "    n_jobs=-1,   # 全CPUを使用する\n",
    ")\n",
    "\n",
    "# 最良の周期を取得\n",
    "best_m = study.best_params['m']\n",
    "print(f\"Best m: {best_m}\")"
   ]
  },
  {
   "cell_type": "code",
   "execution_count": 16,
   "metadata": {
    "cell_id": "ac26a63fec154fdf99597424ffd78bc5",
    "deepnote_cell_type": "code",
    "execution_context_id": "929b43c5-1663-485d-a037-88fb63a463d3",
    "execution_millis": 5022,
    "execution_start": 1753595844515,
    "source_hash": "98ba31df"
   },
   "outputs": [
    {
     "name": "stdout",
     "output_type": "stream",
     "text": [
      "MAE on test: 14.90\n",
      "MAPE on test: 3.10%\n"
     ]
    }
   ],
   "source": [
    "#\n",
    "# code 4.15\n",
    "#\n",
    "\n",
    "# CV で得られた最良の周期でモデルを学習\n",
    "model = AutoARIMA(\n",
    "    seasonal=True, \n",
    "    m=best_m, \n",
    ")\n",
    "model.fit(train_all)\n",
    "\n",
    "# テストデータ期間を予測\n",
    "forecast = model.predict(n_periods=len(test_final))\n",
    "\n",
    "# 評価指標を計算\n",
    "mae = mean_absolute_error(test_final, forecast)\n",
    "mape = mean_absolute_percentage_error(test_final, forecast)\n",
    "\n",
    "# 結果を出力\n",
    "print(f\"MAE on test: {mae:.2f}\")\n",
    "print(f\"MAPE on test: {mape*100:.2f}%\")"
   ]
  },
  {
   "cell_type": "code",
   "execution_count": 17,
   "metadata": {
    "cell_id": "79f4b418db084d2ca6d26d3f36113bf6",
    "deepnote_cell_type": "code",
    "execution_context_id": "929b43c5-1663-485d-a037-88fb63a463d3",
    "execution_millis": 1,
    "execution_start": 1753614657705,
    "source_hash": "27eab91e"
   },
   "outputs": [],
   "source": [
    "#\n",
    "# Prophetモデル用のデータの準備\n",
    "#\n",
    "\n",
    "# Prophet用データフレームに変換（'ds'と'y'列で表現）\n",
    "df_prophet = pd.DataFrame({\n",
    "    'ds': df_ap.index,\n",
    "    'y': df_ap['y'].values\n",
    "})\n",
    "\n",
    "# データを学習データとテストデータに分割\n",
    "train_all, test_final = train_test_split(\n",
    "    df_prophet, \n",
    "    test_size=12  # 直近12ヶ月分をテストデータ\n",
    ")"
   ]
  },
  {
   "cell_type": "code",
   "execution_count": 18,
   "metadata": {
    "cell_id": "a71fb4d78a4747fbad987aeda477e153",
    "deepnote_cell_type": "code",
    "execution_context_id": "929b43c5-1663-485d-a037-88fb63a463d3",
    "execution_millis": 85,
    "execution_start": 1753614658713,
    "source_hash": "1f83f768"
   },
   "outputs": [],
   "source": [
    "#\n",
    "# code 4.16\n",
    "#\n",
    "\n",
    "from prophet import Prophet\n",
    "\n",
    "# Prophetモデル版\n",
    "# 時系列データに対してCVを実施してMAEとMAPEを計算する関数\n",
    "def perform_prophet_cv(\n",
    "    df,                      # 時系列データ(DataFrame with 'ds' and 'y' columns)\n",
    "    tscv,                    # 時系列CVの分割情報\n",
    "    changepoint_prior_scale, # トレンドの柔軟性を制御\n",
    "    seasonality_prior_scale, # 季節性の柔軟性を制御\n",
    "    growth,                  # トレンドの種類\n",
    "    seasonality_mode,        # 季節性モデル（加法か乗法か）\n",
    "):\n",
    "    # CVの評価指標を格納するリスト\n",
    "    mae_list = []\n",
    "    mape_list = []\n",
    "\n",
    "    # CVを実施\n",
    "    for train_idx, test_idx in tscv:\n",
    "\n",
    "        # 訓練データと検証データの取得\n",
    "        train_data = df.iloc[train_idx]\n",
    "        test_data = df.iloc[test_idx]\n",
    "\n",
    "        # Prophetモデルの学習\n",
    "        model = Prophet(\n",
    "            changepoint_prior_scale=changepoint_prior_scale,\n",
    "            seasonality_prior_scale=seasonality_prior_scale,\n",
    "            growth=growth,\n",
    "            seasonality_mode=seasonality_mode\n",
    "        )\n",
    "\n",
    "        # モデルの学習\n",
    "        model.fit(train_data)\n",
    "\n",
    "        # 予測期間の設定\n",
    "        future = model.make_future_dataframe(\n",
    "            periods=len(test_data), \n",
    "            freq='M'\n",
    "        )\n",
    "\n",
    "        # 予測の実行\n",
    "        forecast = model.predict(future)\n",
    "\n",
    "        # 検証データ期間の予測値を取得\n",
    "        y_pred = forecast.iloc[-len(test_data):]['yhat'].values\n",
    "        y_true = test_data['y'].values  \n",
    "\n",
    "        # 評価指標を計算\n",
    "        mae = mean_absolute_error(y_true, y_pred)\n",
    "        mape = mean_absolute_percentage_error(y_true, y_pred)\n",
    "\n",
    "        # 評価指標をリストに追加\n",
    "        mae_list.append(mae)\n",
    "        mape_list.append(mape)\n",
    "\n",
    "    # 戻り値: (平均MAE, 平均MAPE)\n",
    "    return np.mean(mae_list), np.mean(mape_list)"
   ]
  },
  {
   "cell_type": "code",
   "execution_count": 19,
   "metadata": {
    "cell_id": "0f8357e472b34dc5b2a06b9889b459e2",
    "deepnote_cell_type": "code",
    "execution_context_id": "929b43c5-1663-485d-a037-88fb63a463d3",
    "execution_millis": 2,
    "execution_start": 1753614659975,
    "source_hash": "962b166"
   },
   "outputs": [],
   "source": [
    "#\n",
    "# code 4.17\n",
    "#\n",
    "\n",
    "import optuna\n",
    "from pmdarima.model_selection import RollingForecastCV\n",
    "from sklearn.metrics import mean_absolute_error\n",
    "from sklearn.metrics import mean_absolute_percentage_error\n",
    "\n",
    "# Optunaのobjective関数の定義\n",
    "def objective(trial):\n",
    "\n",
    "    # トレンドの柔軟性を制御するパラメータ\n",
    "    changepoint_prior_scale = trial.suggest_float(\n",
    "        'changepoint_prior_scale',\n",
    "        0.001, 0.5,\n",
    "        log=True  # 対数スケールでの探索を指定\n",
    "    )\n",
    "\n",
    "    # 季節性の柔軟性を制御するパラメータ\n",
    "    seasonality_prior_scale = trial.suggest_float(\n",
    "        'seasonality_prior_scale',\n",
    "        0.01, 10.0,\n",
    "        log=True  # 対数スケールでの探索を指定\n",
    "    )\n",
    "\n",
    "    # トレンドの種類\n",
    "    growth = trial.suggest_categorical(\n",
    "        'growth',\n",
    "        ['linear']  # logisticは除外\n",
    "    )\n",
    "\n",
    "    # 季節性モデルの種類（加法か乗法か）\n",
    "    seasonality_mode = trial.suggest_categorical(\n",
    "        'seasonality_mode',\n",
    "        ['additive', 'multiplicative']\n",
    "    )\n",
    "\n",
    "    # RollingForecastCVの設定\n",
    "    cv = RollingForecastCV(\n",
    "        initial=36,  # 初期の訓練用データ期間を36ヶ月に設定\n",
    "        h=12,        # 先の12か月のデータを予測対象とする\n",
    "        step=3       # ローリングするステップ数を3ヶ月ずつとする\n",
    "    )\n",
    "\n",
    "    # クロスバリデーションの分割情報の取得\n",
    "    tscv = cv.split(train_all.values)  \n",
    "\n",
    "    # 評価指標の計算\n",
    "    mae, _ = perform_prophet_cv(\n",
    "        train_all, \n",
    "        tscv, \n",
    "        changepoint_prior_scale,\n",
    "        seasonality_prior_scale,\n",
    "        growth,\n",
    "        seasonality_mode\n",
    "    )\n",
    "    \n",
    "    # 戻り値: MAE\n",
    "    return mae"
   ]
  },
  {
   "cell_type": "code",
   "execution_count": 20,
   "metadata": {
    "cell_id": "d01429e834474b8b95084f08f223aad2",
    "deepnote_cell_type": "code",
    "execution_context_id": "929b43c5-1663-485d-a037-88fb63a463d3",
    "execution_millis": 358185,
    "execution_start": 1753614902405,
    "source_hash": "2d5a4cd5"
   },
   "outputs": [
    {
     "name": "stdout",
     "output_type": "stream",
     "text": [
      "Best parameters:\n",
      "changepoint_prior_scale: 0.024159437996275124\n",
      "seasonality_prior_scale: 0.06539669782956342\n",
      "growth: linear\n",
      "seasonality_mode: multiplicative\n"
     ]
    }
   ],
   "source": [
    "#\n",
    "# code 4.18\n",
    "#\n",
    "\n",
    "# Studyオブジェクトの作成（最小化問題として設定）\n",
    "study = optuna.create_study(\n",
    "    direction='minimize',\n",
    "    sampler=optuna.samplers.TPESampler(seed=123)\n",
    ")\n",
    "\n",
    "# ハイパーパラメータの最適化実行\n",
    "study.optimize(\n",
    "    objective,\n",
    "    n_trials=10000,\n",
    "    n_jobs=-1\n",
    ")\n",
    "\n",
    "# 最適なパラメータの取得と表示\n",
    "best_params = study.best_params\n",
    "print(\"Best parameters:\")\n",
    "for param, value in best_params.items():\n",
    "    print(f\"{param}: {value}\")"
   ]
  },
  {
   "cell_type": "code",
   "execution_count": 21,
   "metadata": {
    "cell_id": "76fb34efbfe04711b56327b0a0235fca",
    "deepnote_cell_type": "code",
    "execution_context_id": "929b43c5-1663-485d-a037-88fb63a463d3",
    "execution_millis": 71,
    "execution_start": 1753615260645,
    "source_hash": "3d5fd2e"
   },
   "outputs": [
    {
     "name": "stdout",
     "output_type": "stream",
     "text": [
      "MAE on test: 17.69\n",
      "MAPE on test: 3.62%\n"
     ]
    }
   ],
   "source": [
    "#\n",
    "# code 4.19\n",
    "#\n",
    "\n",
    "# 最適なパラメータでモデルを学習\n",
    "final_model = Prophet(**best_params)\n",
    "final_model.fit(train_all)\n",
    "\n",
    "# テストデータ期間の予測\n",
    "future = final_model.make_future_dataframe(\n",
    "    periods=len(test_final), \n",
    "    freq='M'\n",
    ")\n",
    "forecast = final_model.predict(future)\n",
    "\n",
    "# テストデータの評価\n",
    "test_pred = forecast.iloc[-len(test_final):]['yhat'].values\n",
    "mae = mean_absolute_error(test_final['y'].values, test_pred)\n",
    "mape = mean_absolute_percentage_error(test_final['y'].values, test_pred)\n",
    "\n",
    "# 結果を出力\n",
    "print(f\"MAE on test: {mae:.2f}\")\n",
    "print(f\"MAPE on test: {mape*100:.2f}%\")"
   ]
  },
  {
   "cell_type": "markdown",
   "metadata": {
    "cell_id": "6751b4132d6f43a19a063dbb2f494da2",
    "deepnote_cell_type": "markdown"
   },
   "source": [
    "## 4.4 残差分析によるモデル診断"
   ]
  },
  {
   "cell_type": "code",
   "execution_count": 22,
   "metadata": {
    "cell_id": "7adc2db2ce9e4a8082202ea0c0dbcd8f",
    "deepnote_cell_type": "code",
    "execution_context_id": "929b43c5-1663-485d-a037-88fb63a463d3",
    "execution_millis": 2511,
    "execution_start": 1753613482058,
    "source_hash": "2b4e7c70"
   },
   "outputs": [],
   "source": [
    "#\n",
    "# code 4.20\n",
    "#\n",
    "\n",
    "from pmdarima.arima import auto_arima\n",
    "\n",
    "# データフレームをコピー\n",
    "df_tbl = df_ap.copy()\n",
    "\n",
    "# モデルの作成\n",
    "model = auto_arima(\n",
    "    df_tbl['y'],\n",
    "    seasonal=True,\n",
    "    m=12\n",
    ")\n",
    "\n",
    "# 予測値（学習データと同じ期間）を追加\n",
    "df_tbl['pred'] = model.predict_in_sample()\n",
    "\n",
    "# 残差の計算\n",
    "df_tbl['res'] = df_tbl['y'] - df_tbl['pred']\n",
    "df_tbl = df_tbl[12:] #不安定な初期12ヶ月を削除"
   ]
  },
  {
   "cell_type": "code",
   "execution_count": 23,
   "metadata": {
    "cell_id": "d6299097ddac49169e91ff87bd7557d4",
    "deepnote_cell_type": "code",
    "execution_context_id": "929b43c5-1663-485d-a037-88fb63a463d3",
    "execution_millis": 115,
    "execution_start": 1753612368614,
    "source_hash": "830fe185"
   },
   "outputs": [
    {
     "data": {
      "image/png": "[encoded data removed]",
      "text/plain": [
       "<Figure size 1000x400 with 1 Axes>"
      ]
     },
     "metadata": {
      "image/png": {
       "height": 393,
       "width": 853
      }
     },
     "output_type": "display_data"
    }
   ],
   "source": [
    "#\n",
    "# code 4.21\n",
    "#\n",
    "\n",
    "# 残差プロット\n",
    "plt.figure(figsize=(10, 4))\n",
    "plt.scatter(df_tbl['pred'], df_tbl['res'], alpha=0.5)\n",
    "plt.axhline(y=0, color='r', linestyle='--')\n",
    "plt.xlabel(\"Predicted Values\")\n",
    "plt.ylabel(\"Residuals\")\n",
    "plt.title(\"Residual Plot\")\n",
    "plt.show()"
   ]
  },
  {
   "cell_type": "code",
   "execution_count": 24,
   "metadata": {
    "cell_id": "5931668d6f0a4685adfab2956cd81299",
    "deepnote_cell_type": "code",
    "execution_context_id": "929b43c5-1663-485d-a037-88fb63a463d3",
    "execution_millis": 89,
    "execution_start": 1753612370852,
    "source_hash": "5e5d65b1"
   },
   "outputs": [
    {
     "data": {
      "image/png": "[encoded data removed]",
      "text/plain": [
       "<Figure size 1000x400 with 1 Axes>"
      ]
     },
     "metadata": {
      "image/png": {
       "height": 393,
       "width": 841
      }
     },
     "output_type": "display_data"
    }
   ],
   "source": [
    "#\n",
    "# code 4.22\n",
    "#\n",
    "\n",
    "# 残差のヒストグラム\n",
    "plt.figure(figsize=(10, 4))\n",
    "plt.hist(df_tbl['res'], bins=20, edgecolor='w')\n",
    "plt.xlabel(\"Residuals\")\n",
    "plt.ylabel(\"Frequency\")\n",
    "plt.title(\"Histogram of Residuals\")\n",
    "plt.show()"
   ]
  },
  {
   "cell_type": "code",
   "execution_count": 25,
   "metadata": {
    "cell_id": "1939137650aa45f99d9d0cace3b56f8d",
    "deepnote_cell_type": "code",
    "execution_context_id": "929b43c5-1663-485d-a037-88fb63a463d3",
    "execution_millis": 74,
    "execution_start": 1753612371843,
    "source_hash": "27ce9dc1"
   },
   "outputs": [
    {
     "data": {
      "image/png": "[encoded data removed]",
      "text/plain": [
       "<Figure size 640x480 with 1 Axes>"
      ]
     },
     "metadata": {
      "image/png": {
       "height": 455,
       "width": 574
      }
     },
     "output_type": "display_data"
    }
   ],
   "source": [
    "#\n",
    "# code 4.23\n",
    "#\n",
    "\n",
    "# Q-Q プロット\n",
    "import statsmodels.api as sm\n",
    "\n",
    "sm.qqplot(df_tbl['res'], line='s')\n",
    "plt.title(\"Q-Q Plot\")\n",
    "plt.show()"
   ]
  },
  {
   "cell_type": "code",
   "execution_count": 26,
   "metadata": {
    "cell_id": "952b32d7610547d2a8f1f37edd2a3707",
    "deepnote_cell_type": "code",
    "execution_context_id": "929b43c5-1663-485d-a037-88fb63a463d3",
    "execution_millis": 93,
    "execution_start": 1753612372620,
    "source_hash": "eda48ba"
   },
   "outputs": [
    {
     "data": {
      "image/png": "[encoded data removed]",
      "text/plain": [
       "<Figure size 640x480 with 1 Axes>"
      ]
     },
     "metadata": {
      "image/png": {
       "height": 455,
       "width": 587
      }
     },
     "output_type": "display_data"
    }
   ],
   "source": [
    "#\n",
    "# code 4.24\n",
    "#\n",
    "\n",
    "# 残差の自己相関プロット\n",
    "from statsmodels.graphics.tsaplots import plot_acf\n",
    "\n",
    "plot_acf(df_tbl['res'].dropna(), lags=24)\n",
    "plt.title(\"Autocorrelation Plot of Residuals (ACF)\")\n",
    "plt.xlabel(\"Lag\")\n",
    "plt.ylabel(\"Autocorrelation\")\n",
    "plt.show()"
   ]
  },
  {
   "cell_type": "code",
   "execution_count": 27,
   "metadata": {
    "cell_id": "6100ba73b958412d9b56ad32c0260447",
    "deepnote_cell_type": "code",
    "execution_context_id": "929b43c5-1663-485d-a037-88fb63a463d3",
    "execution_millis": 0,
    "execution_start": 1753612373795,
    "source_hash": "fa49cad2"
   },
   "outputs": [
    {
     "name": "stdout",
     "output_type": "stream",
     "text": [
      "Shapiro-Wilk Test: stat=0.9436, p=0.0000\n"
     ]
    }
   ],
   "source": [
    "#\n",
    "# code 4.25\n",
    "#\n",
    "\n",
    "# シャピロ・ウィルク検定による正規性の検討\n",
    "from scipy.stats import shapiro\n",
    "\n",
    "stat_sw, p_sw = shapiro(df_tbl['res'].dropna())\n",
    "print(f\"Shapiro-Wilk Test: stat={stat_sw:.4f}, p={p_sw:.4f}\")"
   ]
  },
  {
   "cell_type": "code",
   "execution_count": 28,
   "metadata": {
    "cell_id": "9e6389730b7343e185bac8bb64d697a4",
    "deepnote_cell_type": "code",
    "execution_context_id": "929b43c5-1663-485d-a037-88fb63a463d3",
    "execution_millis": 2,
    "execution_start": 1753612374998,
    "source_hash": "9957116c"
   },
   "outputs": [
    {
     "name": "stdout",
     "output_type": "stream",
     "text": [
      "Runs Test: stat=-0.6591, p=0.5099\n"
     ]
    }
   ],
   "source": [
    "#\n",
    "# code 4.26\n",
    "#\n",
    "\n",
    "# ラン検定によるランダム性の確認\n",
    "from statsmodels.sandbox.stats.runs import runstest_1samp\n",
    "\n",
    "stat_runs, p_runs = runstest_1samp(\n",
    "    df_tbl['res'].dropna(), \n",
    "    correction=True\n",
    ")\n",
    "print(f\"Runs Test: stat={stat_runs:.4f}, p={p_runs:.4f}\")"
   ]
  },
  {
   "cell_type": "code",
   "execution_count": 29,
   "metadata": {
    "cell_id": "42edff6b10014254818d93f097149663",
    "deepnote_cell_type": "code",
    "execution_context_id": "929b43c5-1663-485d-a037-88fb63a463d3",
    "execution_millis": 5,
    "execution_start": 1753612375716,
    "source_hash": "b065050c"
   },
   "outputs": [
    {
     "name": "stdout",
     "output_type": "stream",
     "text": [
      "     lb_stat  lb_pvalue\n",
      "12  8.039604   0.782028\n"
     ]
    }
   ],
   "source": [
    "#\n",
    "# code 4.27\n",
    "#\n",
    "\n",
    "# リュング・ボックス検定による自己相関の確認\n",
    "from statsmodels.stats.diagnostic import acorr_ljungbox\n",
    "\n",
    "lb_test = acorr_ljungbox(\n",
    "    df_tbl['res'].dropna(), \n",
    "    lags=[12], \n",
    "    return_df=True\n",
    ")\n",
    "print(lb_test)"
   ]
  },
  {
   "cell_type": "markdown",
   "metadata": {
    "cell_id": "70aa1f9e016c443d88aa0ebe66a67184",
    "deepnote_cell_type": "markdown"
   },
   "source": [
    "## 4.5 予測区間の算出"
   ]
  },
  {
   "cell_type": "code",
   "execution_count": 30,
   "metadata": {
    "cell_id": "a2acb7e55a2d4faab5f3649f0063eeeb",
    "deepnote_cell_type": "code",
    "execution_context_id": "929b43c5-1663-485d-a037-88fb63a463d3",
    "execution_millis": 0,
    "execution_start": 1753613443565,
    "source_hash": "bfbad3e4"
   },
   "outputs": [],
   "source": [
    "#\n",
    "# code 4.28\n",
    "#\n",
    "\n",
    "from typing import Optional, Tuple, Iterator\n",
    "\n",
    "# 指定された時刻 t の特徴量ベクトルを構築する関数\n",
    "def build_feature_vector(\n",
    "    t: int,                         # 現在の時刻インデックス (整数値)\n",
    "    y_array: np.ndarray,            # 目的変数の時系列データ (1次元配列)\n",
    "    X_array: Optional[np.ndarray],  # 外生変数 (2次元配列または None)\n",
    "    use_lags: bool,                 # ラグ特徴量を使用するか (True/False)\n",
    "    max_lag: int,                   # 最大のラグサイズ (整数値)\n",
    "    use_exog: bool                  # 外生変数データを使用するか (True/False)\n",
    ") -> np.ndarray:\n",
    "    feats = []\n",
    "\n",
    "    # y のラグ特徴量を追加\n",
    "    if use_lags and max_lag > 0:\n",
    "        for lag in range(1, max_lag + 1):\n",
    "            feats.append(y_array[t - lag])\n",
    "    \n",
    "    # 外生変数 X を追加\n",
    "    if use_exog and (X_array is not None):\n",
    "        feats.extend(X_array[t].tolist()) \n",
    "\t\n",
    "    # 1行に整形して返す\n",
    "    return np.array(feats, dtype=float).reshape(1, -1)  "
   ]
  },
  {
   "cell_type": "code",
   "execution_count": 31,
   "metadata": {
    "cell_id": "82e48af5fa01459888042399ba698ae4",
    "deepnote_cell_type": "code",
    "execution_context_id": "929b43c5-1663-485d-a037-88fb63a463d3",
    "execution_millis": 0,
    "execution_start": 1753613471875,
    "source_hash": "3effe2f8"
   },
   "outputs": [],
   "source": [
    "#\n",
    "# code 4.29\n",
    "#\n",
    "\n",
    "# 学習データセット(X, y)を構築する関数\n",
    "# 指定インデックス範囲に基づき、特徴量行列 X と目的変数ベクトル y を生成\n",
    "def make_train_xy(\n",
    "    y_array: np.ndarray,           # 目的変数データ\n",
    "    X_array: Optional[np.ndarray], # 追加の外生変数データ\n",
    "    idx_array: np.ndarray,         # 学習データのインデックス\n",
    "    use_lags: bool,                # 目的変数のラグ特徴量を使用するか (True/False)\n",
    "    max_lag: int,                  # 目的変数のラグ特徴量の最大ラグ数\n",
    "    use_exog: bool                 # 追加の外生変数を使用するか (True/False)\n",
    "):\n",
    "    # 学習データがない場合に空のデータを返す\n",
    "    if len(idx_array) == 0:\n",
    "        return np.empty((0, 0)), np.empty((0,))  \n",
    "\n",
    "\t# インデックスの始点と終点\n",
    "    start_t, end_t = idx_array[0], idx_array[-1]  \n",
    "\n",
    "    # 特徴量データとターゲット変数データを保持するリストを初期化\n",
    "    X_list, y_list = [], []\n",
    "\n",
    "    # ラグが必要な場合は開始インデックスを調整\n",
    "    offset = max_lag if use_lags else 0\n",
    "\n",
    "\t# 特徴量を生成\n",
    "    for t in range(start_t + offset, end_t + 1):\n",
    "        fv = build_feature_vector(\n",
    "            t, y_array, X_array,\n",
    "            use_lags, max_lag, use_exog\n",
    "        )  \n",
    "        X_list.append(fv.ravel())   # 特徴量ベクトルをリストに追加\n",
    "        y_list.append(y_array[t])   # 対応するy値をリストに追加\n",
    "    if len(X_list) == 0:\n",
    "        return np.empty((0, 0)), np.empty((0,)) \n",
    "\n",
    "    # リストを配列に変換して返す\n",
    "    X_mat = np.array(X_list)\n",
    "    y_vec = np.array(y_list)\n",
    "    return X_mat, y_vec"
   ]
  },
  {
   "cell_type": "code",
   "execution_count": 32,
   "metadata": {
    "cell_id": "8d0d640a4d9047c28107268dadaa1a0a",
    "deepnote_cell_type": "code",
    "execution_context_id": "929b43c5-1663-485d-a037-88fb63a463d3",
    "execution_millis": 0,
    "execution_start": 1753614250786,
    "source_hash": "d3642c2f"
   },
   "outputs": [],
   "source": [
    "#\n",
    "# code 4.30\n",
    "#\n",
    "\n",
    "# 時系列CCPで予測区間幅を計算する関数\n",
    "def ccp_recursive_multi_step_general(\n",
    "    y: np.ndarray,                                      # 目的変数データ\n",
    "    X: Optional[np.ndarray],                            # 追加の外生変数データ\n",
    "    cv_splits: Iterator[Tuple[np.ndarray, np.ndarray]], # CV 分割情報\n",
    "    model_class,                                        # 学習モデル\n",
    "    H: int = 3,                                         # 何ステップ分先まで予測するか\n",
    "    pred_alpha: float = 0.1,                            # 予測区間の信頼水準\n",
    "    use_lags: bool = True,                              # 目的変数のラグ特徴量を使用するか\n",
    "    max_lag: int = 2,                                   # 目的変数のラグ特徴量の最大ラグ\n",
    "    use_exog: bool = True,                              # 追加の外生変数を使用するか\n",
    "    **model_kwargs                                      # モデルに渡す追加のパラメータ\n",
    "):\n",
    "    # 各予測ステップの残差リスト初期化\n",
    "    residuals_h = [[] for _ in range(H)]\n",
    "\n",
    "    # 各分割 (訓練と校正のセット)について処理を行う\n",
    "    for (train_idx, test_idx) in cv_splits:\n",
    "        if len(train_idx) == 0 or len(test_idx) == 0:\n",
    "            continue  # データ分割が空の場合はスキップ\n",
    "\n",
    "        # 訓練期間のデータ範囲\n",
    "        train_start, train_end = train_idx[0], train_idx[-1]  \n",
    "\n",
    "        # 校正期間のデータ範囲\n",
    "        cal_start, cal_end = test_idx[0], test_idx[-1]  \n",
    "\n",
    "        # 訓練データセット (X, y) を構築\n",
    "        X_train, y_train = make_train_xy(\n",
    "            y, X, train_idx, use_lags, max_lag, use_exog)\n",
    "\n",
    "        # 訓練データでモデル学習\n",
    "        model = model_class(**model_kwargs)\n",
    "        if len(X_train) > 0:\n",
    "            model.fit(X_train, y_train)\n",
    "        else:\n",
    "            continue  # 訓練データが空の場合はスキップ\n",
    "\n",
    "        # 校正期間で再帰的な予測を実施し、誤差を記録\n",
    "        y_known = y.copy()\n",
    "        for t in range(cal_start, cal_end + 1):\n",
    "            for h in range(1, H + 1):\n",
    "                future_t = t + h\n",
    "                if future_t >= len(y):\n",
    "                    break  # データ範囲を超えたら終了\n",
    "                try:\n",
    "                    # 特徴量を生成\n",
    "                    fv = build_feature_vector(\n",
    "                        future_t, y_known, X,\n",
    "                        use_lags, max_lag, use_exog\n",
    "                    )  \n",
    "                except IndexError:\n",
    "                    break  # ラグ不足でエラーが発生した場合も終了\n",
    "                # 予測値\n",
    "                y_hat = model.predict(fv)[0]\n",
    "                # 誤差 = 真の値 - 予測値  \n",
    "                e = y[future_t] - y_hat  \n",
    "                # hステップ目の残差を記録\n",
    "                residuals_h[h - 1].append(e)  \n",
    "                # 再帰的予測用にy_knownを更新\n",
    "                y_known[future_t] = y_hat  \n",
    "                \n",
    "    # 予測区間幅を計算してリストに格納\n",
    "    width_h = []\n",
    "    for h in range(1, H + 1):\n",
    "        # 残差の絶対値を取得\n",
    "        abs_res = np.abs(residuals_h[h - 1])  \n",
    "        if len(abs_res) == 0:\n",
    "            width_h.append(0.0)  # 残差がない場合は幅は0\n",
    "        else:\n",
    "            # 与えられた信頼水準から分位点を計算\n",
    "            q = np.quantile(abs_res, 1 - pred_alpha)  \n",
    "            width_h.append(q)\n",
    "\n",
    "    # 予測区間幅と残差リストを返す\n",
    "    return width_h, residuals_h"
   ]
  },
  {
   "cell_type": "code",
   "execution_count": 33,
   "metadata": {
    "cell_id": "7f247c0137d246eba7d918b624fe149d",
    "deepnote_cell_type": "code",
    "execution_context_id": "929b43c5-1663-485d-a037-88fb63a463d3",
    "execution_millis": 2,
    "execution_start": 1753614251797,
    "source_hash": "65f21242"
   },
   "outputs": [],
   "source": [
    "#\n",
    "# code 4.31\n",
    "#\n",
    "\n",
    "from pmdarima.model_selection import train_test_split\n",
    "\n",
    "# 学習データとテストデータに分ける\n",
    "y_train, y_test = train_test_split(\n",
    "    df_ap['y'], \n",
    "    test_size=12\n",
    ")"
   ]
  },
  {
   "cell_type": "code",
   "execution_count": 34,
   "metadata": {
    "cell_id": "b050becace3a4b99bea9fefe72aad9f9",
    "deepnote_cell_type": "code",
    "execution_context_id": "929b43c5-1663-485d-a037-88fb63a463d3",
    "execution_millis": 3123,
    "execution_start": 1753614253753,
    "source_hash": "58ce3c53"
   },
   "outputs": [
    {
     "name": "stdout",
     "output_type": "stream",
     "text": [
      "1 先予測の予測区間の幅: 45.09864053791801\n",
      "2 先予測の予測区間の幅: 47.303124898965095\n",
      "3 先予測の予測区間の幅: 51.36843881154095\n",
      "4 先予測の予測区間の幅: 54.693867193013155\n",
      "5 先予測の予測区間の幅: 59.118012905398615\n",
      "6 先予測の予測区間の幅: 61.82566022632674\n",
      "7 先予測の予測区間の幅: 63.87338805892998\n",
      "8 先予測の予測区間の幅: 65.65040821684723\n",
      "9 先予測の予測区間の幅: 67.9299782560119\n",
      "10 先予測の予測区間の幅: 70.0327954042567\n",
      "11 先予測の予測区間の幅: 73.42143920010884\n",
      "12 先予測の予測区間の幅: 78.31795777525431\n"
     ]
    }
   ],
   "source": [
    "#\n",
    "# code 4.32\n",
    "#\n",
    "\n",
    "from sklearn.linear_model import RidgeCV\n",
    "from pmdarima.model_selection import RollingForecastCV\n",
    "\n",
    "# RollingForecastCVクラスのインスタンスを作成\n",
    "cv = RollingForecastCV(\n",
    "    initial=36,                     # 初期の訓練用データ期間を36ヶ月に設定\n",
    "    h=12,                           # 先の12か月のデータを予測対象とする\n",
    "    step=1                          # ローリングするステップ数を3ヶ月ずつとする\n",
    ")\n",
    "\n",
    "# パラメータ設定\n",
    "H = 12                              # 最大予測ステップ\n",
    "pred_alpha = 0.05                   # 予測区間の信頼レベル\n",
    "use_lags = True                     # ラグ特徴量を使用\n",
    "max_lag = 12                        # 最大のラグ数\n",
    "use_exog = False                    # 外部変数は使用しない\n",
    "\n",
    "# 時系列CCPで予測区間幅を計算\n",
    "widths, residuals = ccp_recursive_multi_step_general(\n",
    "    y=y_train.values,                # 目的変数\n",
    "    X=None,                          # 外生変数は使用しない\n",
    "    cv_splits=cv.split(y_train),\n",
    "    H=H, \n",
    "    pred_alpha=pred_alpha,\n",
    "    use_lags=use_lags,\n",
    "    max_lag=max_lag,\n",
    "    use_exog=use_exog,\n",
    "    model_class=RidgeCV,             # RidgeCV回帰モデルを使用\n",
    "    alphas=np.logspace(-3, 3, 1000)  # Ridgeのα値の探索範囲\n",
    ")\n",
    "\n",
    "# 各ステップごとに予測区間の幅を出力\n",
    "for step, width in enumerate(widths, start=1):\n",
    "    print(f\"{step} 先予測の予測区間の幅: {width}\")"
   ]
  },
  {
   "cell_type": "code",
   "execution_count": 35,
   "metadata": {},
   "outputs": [],
   "source": [
    "#\n",
    "# code 4.33\n",
    "#\n",
    "\n",
    "# 最終モデル作成: 学習データ全体を使用してモデルを構築\n",
    "final_model = RidgeCV()\n",
    "\n",
    "# 学習データ全体用の特徴量行列とターゲット変数を作成\n",
    "final_X_train, final_y_train = make_train_xy(\n",
    "    y_array=y_train,\n",
    "    X_array=None,\n",
    "    idx_array=np.arange(len(y_train)), \n",
    "    use_lags=use_lags,\n",
    "    max_lag=max_lag,\n",
    "    use_exog=use_exog\n",
    ")\n",
    "\n",
    "# モデル学習\n",
    "final_model.fit(final_X_train, final_y_train)"
   ]
  },
  {
   "cell_type": "code",
   "execution_count": 36,
   "metadata": {
    "cell_id": "4212bff08af543c18c2500e8c26a4429",
    "deepnote_cell_type": "code",
    "execution_context_id": "929b43c5-1663-485d-a037-88fb63a463d3",
    "execution_millis": 2,
    "execution_start": 1753614289216,
    "source_hash": "f6311089"
   },
   "outputs": [
    {
     "name": "stdout",
     "output_type": "stream",
     "text": [
      "1 先予測: 予測値 = 395.35037285893526, 予測区間 = [350.25173232101724, 440.4490133968533]\n",
      "2 先予測: 予測値 = 381.0014629162444, 予測区間 = [333.6983380172793, 428.3045878152095]\n",
      "3 先予測: 予測値 = 427.2777022150986, 予測区間 = [375.90926340355765, 478.64614102663955]\n",
      "4 先予測: 予測値 = 426.4432062926124, 予測区間 = [371.74933909959924, 481.13707348562554]\n",
      "5 先予測: 予測値 = 466.11202076744087, 予測区間 = [406.9940078620423, 525.2300336728395]\n",
      "6 先予測: 予測値 = 512.1022270907182, 予測区間 = [450.27656686439144, 573.9278873170449]\n",
      "7 先予測: 予測値 = 597.5266252173615, 予測区間 = [533.6532371584315, 661.4000132762915]\n",
      "8 先予測: 予測値 = 607.1613843193647, 予測区間 = [541.5109761025175, 672.811792536212]\n",
      "9 先予測: 予測値 = 526.9948028430965, 予測区間 = [459.0648245870846, 594.9247810991085]\n",
      "10 先予測: 予測値 = 456.07084851749585, 予測区間 = [386.03805311323913, 526.1036439217526]\n",
      "11 先予測: 予測値 = 404.1681036741894, 予測区間 = [330.7466644740806, 477.5895428742982]\n",
      "12 先予測: 予測値 = 441.6256466228844, 予測区間 = [363.30768884763006, 519.9436043981387]\n"
     ]
    }
   ],
   "source": [
    "#\n",
    "# code 4.34\n",
    "#\n",
    "\n",
    "# 予測結果を格納するリスト\n",
    "preds, lower_bounds, upper_bounds = [], [], []\n",
    "\n",
    "# 既知のy\n",
    "y_known = np.concatenate([\n",
    "    y_train, \n",
    "    np.full(len(df_ap['y']) - len(y_train), np.nan)\n",
    "])\n",
    "\n",
    "# テストデータの開始インデックス\n",
    "test_start_idx = len(y_train)  \n",
    "\n",
    "# テストデータ期間の各時点で予測実行\n",
    "for t in range(test_start_idx, test_start_idx + len(y_test)):\n",
    "\n",
    "    # 特徴量生成: ラグを考慮\n",
    "    features = build_feature_vector(\n",
    "        t=t,\n",
    "        y_array=y_known,\n",
    "        X_array=None,\n",
    "        use_lags=use_lags,\n",
    "        max_lag=max_lag,\n",
    "        use_exog=use_exog\n",
    "    )\n",
    "\n",
    "    # 予測値を計算\n",
    "    pred = final_model.predict(features)[0]\n",
    "    preds.append(pred)                          # 各予測値をリストに追加\n",
    "\n",
    "    # 予測区間の幅を取得\n",
    "    step_idx = min(H - 1, t - test_start_idx)   # Hステップ以上は最大幅を使用\n",
    "    interval_width = widths[step_idx]\n",
    "    lower_bounds.append(pred - interval_width)  # 下限値を計算\n",
    "    upper_bounds.append(pred + interval_width)  # 上限値を計算\n",
    "\n",
    "    # 再帰的予測: y_knownに予測値を更新\n",
    "    y_known[t] = pred\n",
    "\n",
    "# 予測ごとに予測値と予測区間を出力\n",
    "preds_bounds = zip(preds, lower_bounds, upper_bounds)\n",
    "for i, (pred, lower, upper) in enumerate(preds_bounds, 1):\n",
    "    print(f\"{i} 先予測: 予測値 = {pred}, 予測区間 = [{lower}, {upper}]\")"
   ]
  },
  {
   "cell_type": "code",
   "execution_count": 37,
   "metadata": {
    "cell_id": "f275f6ac9fe74d2f912edb472ea17192",
    "deepnote_cell_type": "code",
    "deepnote_variable_name": "",
    "execution_context_id": "929b43c5-1663-485d-a037-88fb63a463d3",
    "execution_millis": 1,
    "execution_start": 1753614355412,
    "source_hash": "735b43ac",
    "sql_integration_id": ""
   },
   "outputs": [
    {
     "name": "stdout",
     "output_type": "stream",
     "text": [
      "テストデータの MAE: 14.72\n",
      "テストデータの MAPE: 3.13%\n",
      "\n",
      "予測区間の信頼水準: 95.0%\n",
      "実際のカバー率: 100.00%\n",
      "\n",
      "予測結果の詳細:\n",
      "                y  prediction       lower       upper  within_interval\n",
      "1960-01-31  417.0  395.350373  350.251732  440.449013             True\n",
      "1960-02-29  391.0  381.001463  333.698338  428.304588             True\n",
      "1960-03-31  419.0  427.277702  375.909263  478.646141             True\n",
      "1960-04-30  461.0  426.443206  371.749339  481.137073             True\n",
      "1960-05-31  472.0  466.112021  406.994008  525.230034             True\n",
      "1960-06-30  535.0  512.102227  450.276567  573.927887             True\n",
      "1960-07-31  622.0  597.526625  533.653237  661.400013             True\n",
      "1960-08-31  606.0  607.161384  541.510976  672.811793             True\n",
      "1960-09-30  508.0  526.994803  459.064825  594.924781             True\n",
      "1960-10-31  461.0  456.070849  386.038053  526.103644             True\n",
      "1960-11-30  390.0  404.168104  330.746664  477.589543             True\n",
      "1960-12-31  432.0  441.625647  363.307689  519.943604             True\n"
     ]
    }
   ],
   "source": [
    "#\n",
    "# code 4.35\n",
    "#\n",
    "\n",
    "# テストデータ期間の予測精度を計算\n",
    "mae = mean_absolute_error(y_test, preds)\n",
    "mape = mean_absolute_percentage_error(y_test, preds)\n",
    "print(f\"テストデータの MAE: {mae:.2f}\")\n",
    "print(f\"テストデータの MAPE: {mape*100:.2f}%\")\n",
    "\n",
    "# 予測区間の評価（実測値が予測区間に含まれる割合）\n",
    "within_interval = (y_test >= lower_bounds) & (y_test <= upper_bounds)\n",
    "within_interval_count = np.sum(within_interval)\n",
    "coverage = within_interval_count / len(y_test)\n",
    "print(f\"\\n予測区間の信頼水準: {(1-pred_alpha)*100}%\")\n",
    "print(f\"実際のカバー率: {coverage*100:.2f}%\")\n",
    "\n",
    "# 結果をデータフレームにまとめて表示\n",
    "test_final = pd.DataFrame({\n",
    "    'y': y_test.values,\n",
    "    'prediction': preds,\n",
    "    'lower': lower_bounds,\n",
    "    'upper': upper_bounds,\n",
    "    'within_interval': within_interval\n",
    "})\n",
    "print(\"\\n予測結果の詳細:\")\n",
    "print(test_final)"
   ]
  },
  {
   "cell_type": "code",
   "execution_count": 38,
   "metadata": {
    "cell_id": "9fb4e3f190714715b6b7f9683a456028",
    "deepnote_cell_type": "code",
    "execution_context_id": "929b43c5-1663-485d-a037-88fb63a463d3",
    "execution_millis": 164,
    "execution_start": 1753614414465,
    "source_hash": "f3b4493b"
   },
   "outputs": [
    {
     "data": {
      "image/png": "[encoded data removed]",
      "text/plain": [
       "<Figure size 1000x500 with 1 Axes>"
      ]
     },
     "metadata": {
      "image/png": {
       "height": 433,
       "width": 831
      }
     },
     "output_type": "display_data"
    }
   ],
   "source": [
    "#\n",
    "# code 4.36\n",
    "#\n",
    "\n",
    "# 学習データ期間の予測値\n",
    "fitted = pd.Series(\n",
    "    data=final_model.predict(final_X_train),\n",
    "    index=y_train.index[max_lag:]\n",
    ")\n",
    "\n",
    "# テストデータ期間の予測値\n",
    "forecast = test_final.prediction\n",
    "\n",
    "# 予測区間\n",
    "conf = np.column_stack([\n",
    "    lower_bounds, \n",
    "    upper_bounds\n",
    "])\n",
    "\n",
    "# 結果をプロット\n",
    "plot_prediction_results(\n",
    "    y=df_ap['y'],\n",
    "    fitted=fitted,\n",
    "    forecast=forecast,\n",
    "    conf=conf\n",
    ")"
   ]
  }
 ],
 "metadata": {
  "deepnote_notebook_id": "4fe7c341aec14bf483d73c03147da0e7",
  "kernelspec": {
   "display_name": "Python 3 (ipykernel)",
   "language": "python",
   "name": "python3"
  },
  "language_info": {
   "codemirror_mode": {
    "name": "ipython",
    "version": 3
   },
   "file_extension": ".py",
   "mimetype": "text/x-python",
   "name": "python",
   "nbconvert_exporter": "python",
   "pygments_lexer": "ipython3",
   "version": "3.12.5"
  }
 },
 "nbformat": 4,
 "nbformat_minor": 4
}
